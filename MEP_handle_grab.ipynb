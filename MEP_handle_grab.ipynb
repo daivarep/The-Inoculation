{
 "cells": [
  {
   "cell_type": "code",
   "execution_count": 1,
   "metadata": {},
   "outputs": [],
   "source": [
    "from bs4 import BeautifulSoup\n",
    "import requests\n",
    "import pandas as pd"
   ]
  },
  {
   "cell_type": "markdown",
   "metadata": {},
   "source": [
    "## What this code does:\n",
    "\n",
    "    1. Create a data frame of of parliament members' names and personal URLs.\n",
    "    2. Open each URL to find their Twitter handle.\n",
    "    3. Create a data frame with name, country, party and Twitter handle"
   ]
  },
  {
   "cell_type": "markdown",
   "metadata": {},
   "source": [
    "# Locating member URLs on the website"
   ]
  },
  {
   "cell_type": "code",
   "execution_count": 49,
   "metadata": {},
   "outputs": [],
   "source": [
    "url = 'https://www.europarl.europa.eu/meps/en/full-list/all'\n",
    "headers = {'User-Agent': 'Mozilla/5.0 (Macintosh; Intel Mac OS X 10_10_1) AppleWebKit/537.36 (KHTML, like Gecko) Chrome/39.0.2171.95 Safari/537.36'}\n",
    "\n",
    "response = requests.get(url, headers=headers)"
   ]
  },
  {
   "cell_type": "code",
   "execution_count": 50,
   "metadata": {},
   "outputs": [],
   "source": [
    "soup = BeautifulSoup(response.content,'html.parser')"
   ]
  },
  {
   "cell_type": "code",
   "execution_count": 56,
   "metadata": {},
   "outputs": [],
   "source": [
    "meps = pd.DataFrame(columns=['Name', 'Party', 'Country', 'URL'])\n",
    "mepurls =[]\n",
    "mepnames = []\n",
    "mepparties = []\n",
    "mepcountries = []\n",
    "for a in soup.find_all('a', attrs={'class':'erpl_member-list-item-content'}, href=True):\n",
    "    mepurls.append(a['href'])\n",
    "    mepnames.append(a.find('div', attrs={'class': 'erpl_title-h5'}).get_text())\n",
    "    mepparties.append(a.find_all('div', attrs={'class': 'sln-additional-info'})[1].get_text())\n",
    "    mepcountries.append(a.find_all('div', attrs={'class': 'sln-additional-info'})[2].get_text())\n",
    "\n",
    "meps = pd.DataFrame(\n",
    "    {'Name': mepnames,\n",
    "     'Party': mepparties,\n",
    "     'Country': mepcountries\n",
    "     'URL': mepurls\n",
    "    })"
   ]
  },
  {
   "cell_type": "code",
   "execution_count": 57,
   "metadata": {},
   "outputs": [
    {
     "data": {
      "text/html": [
       "<div>\n",
       "<style scoped>\n",
       "    .dataframe tbody tr th:only-of-type {\n",
       "        vertical-align: middle;\n",
       "    }\n",
       "\n",
       "    .dataframe tbody tr th {\n",
       "        vertical-align: top;\n",
       "    }\n",
       "\n",
       "    .dataframe thead th {\n",
       "        text-align: right;\n",
       "    }\n",
       "</style>\n",
       "<table border=\"1\" class=\"dataframe\">\n",
       "  <thead>\n",
       "    <tr style=\"text-align: right;\">\n",
       "      <th></th>\n",
       "      <th>Name</th>\n",
       "      <th>Party</th>\n",
       "      <th>Country</th>\n",
       "      <th>Role</th>\n",
       "      <th>URL</th>\n",
       "    </tr>\n",
       "  </thead>\n",
       "  <tbody>\n",
       "    <tr>\n",
       "      <th>55</th>\n",
       "      <td>Leila CHAIBI</td>\n",
       "      <td>The Left</td>\n",
       "      <td>France</td>\n",
       "      <td>Substitute</td>\n",
       "      <td>https://www.europarl.europa.eu/meps/en/197529</td>\n",
       "    </tr>\n",
       "    <tr>\n",
       "      <th>28</th>\n",
       "      <td>Elżbieta Katarzyna ŁUKACIJEWSKA</td>\n",
       "      <td>PPE</td>\n",
       "      <td>Poland</td>\n",
       "      <td>Member</td>\n",
       "      <td>https://www.europarl.europa.eu/meps/en/96791</td>\n",
       "    </tr>\n",
       "    <tr>\n",
       "      <th>32</th>\n",
       "      <td>Tilly METZ</td>\n",
       "      <td>Verts/ALE</td>\n",
       "      <td>Luxembourg</td>\n",
       "      <td>Member</td>\n",
       "      <td>https://www.europarl.europa.eu/meps/en/193292</td>\n",
       "    </tr>\n",
       "    <tr>\n",
       "      <th>24</th>\n",
       "      <td>Elsi KATAINEN</td>\n",
       "      <td>Renew</td>\n",
       "      <td>Finland</td>\n",
       "      <td>Member</td>\n",
       "      <td>https://www.europarl.europa.eu/meps/en/191693</td>\n",
       "    </tr>\n",
       "    <tr>\n",
       "      <th>51</th>\n",
       "      <td>Petras AUŠTREVIČIUS</td>\n",
       "      <td>Renew</td>\n",
       "      <td>Lithuania</td>\n",
       "      <td>Substitute</td>\n",
       "      <td>https://www.europarl.europa.eu/meps/en/124766</td>\n",
       "    </tr>\n",
       "  </tbody>\n",
       "</table>\n",
       "</div>"
      ],
      "text/plain": [
       "                               Name      Party     Country        Role  \\\n",
       "55                     Leila CHAIBI   The Left      France  Substitute   \n",
       "28  Elżbieta Katarzyna ŁUKACIJEWSKA        PPE      Poland      Member   \n",
       "32                       Tilly METZ  Verts/ALE  Luxembourg      Member   \n",
       "24                    Elsi KATAINEN      Renew     Finland      Member   \n",
       "51              Petras AUŠTREVIČIUS      Renew   Lithuania  Substitute   \n",
       "\n",
       "                                              URL  \n",
       "55  https://www.europarl.europa.eu/meps/en/197529  \n",
       "28   https://www.europarl.europa.eu/meps/en/96791  \n",
       "32  https://www.europarl.europa.eu/meps/en/193292  \n",
       "24  https://www.europarl.europa.eu/meps/en/191693  \n",
       "51  https://www.europarl.europa.eu/meps/en/124766  "
      ]
     },
     "execution_count": 57,
     "metadata": {},
     "output_type": "execute_result"
    }
   ],
   "source": [
    "meps.sample(5)"
   ]
  },
  {
   "cell_type": "code",
   "execution_count": 58,
   "metadata": {},
   "outputs": [
    {
     "name": "stdout",
     "output_type": "stream",
     "text": [
      "<a class=\"erpl_member-list-item-content t-y-block\" href=\"https://www.europarl.europa.eu/meps/en/197405\" itemprop=\"url\">\n",
      "<div>\n",
      "<div class=\"erpl_image-frame mb-2\">\n",
      "<img aria-hidden=\"true\" src=\"/commonFrontResources/evostrap/3.0.0/lib/assets/img/frame/portraitsize_thumb.png\"/>\n",
      "<span>\n",
      "<picture>\n",
      "<img alt=\"Jörgen WARBORN\" loading=\"lazy\" src=\"https://www.europarl.europa.eu/mepphoto/197405.jpg\"/>\n",
      "</picture>\n",
      "</span>\n",
      "</div>\n",
      "<div class=\"erpl_title-h5 t-item\">Jörgen WARBORN</div>\n",
      "<div>\n",
      "<div class=\"sln-additional-info mb-25\">Substitute</div>\n",
      "<div class=\"sln-additional-info mb-25\">PPE</div>\n",
      "<div class=\"sln-additional-info\">Sweden</div>\n",
      "</div>\n",
      "</div>\n",
      "</a>\n"
     ]
    }
   ],
   "source": [
    "print(a)"
   ]
  },
  {
   "cell_type": "code",
   "execution_count": 59,
   "metadata": {},
   "outputs": [
    {
     "data": {
      "text/plain": [
       "Name       95\n",
       "Party      95\n",
       "Country    95\n",
       "Role       95\n",
       "URL        95\n",
       "dtype: int64"
      ]
     },
     "execution_count": 59,
     "metadata": {},
     "output_type": "execute_result"
    }
   ],
   "source": [
    "meps.count()"
   ]
  },
  {
   "cell_type": "code",
   "execution_count": 60,
   "metadata": {},
   "outputs": [
    {
     "name": "stdout",
     "output_type": "stream",
     "text": [
      "https://www.europarl.europa.eu/meps/en/96868\n",
      "https://twitter.com/KarimaDelli\n"
     ]
    }
   ],
   "source": [
    "# Test if it finds the Twitter URL\n",
    "\n",
    "print(meps.loc[0, 'URL'])\n",
    "response = requests.get(meps.loc[0, 'URL'])\n",
    "soup = BeautifulSoup(response.content,'html.parser')\n",
    "print(soup.find('a', attrs={'class':'link_twitt'}, href=True)['href'])"
   ]
  },
  {
   "cell_type": "markdown",
   "metadata": {},
   "source": [
    "# Locating twitter handle in personal pages"
   ]
  },
  {
   "cell_type": "code",
   "execution_count": 61,
   "metadata": {},
   "outputs": [],
   "source": [
    "twitters = []\n",
    "for u in meps['URL']:\n",
    "    quote_page = [u]\n",
    "    for url in quote_page:\n",
    "        response = requests.get(url)\n",
    "    soup = BeautifulSoup(response.content,'html.parser')\n",
    "    try:\n",
    "        twt = soup.find('a', attrs={'class':'link_twitt'}, href=True)['href']\n",
    "    except:\n",
    "        twt = ''\n",
    "    twt = twt.replace(\"https://twitter.com/\", \"\")\n",
    "    twitters.append(twt)   \n",
    "meps['TwitterHandle'] = twitters"
   ]
  },
  {
   "cell_type": "markdown",
   "metadata": {},
   "source": [
    "# Cleaning up"
   ]
  },
  {
   "cell_type": "code",
   "execution_count": 62,
   "metadata": {},
   "outputs": [
    {
     "name": "stderr",
     "output_type": "stream",
     "text": [
      "/tmp/ipykernel_27414/3545670990.py:7: FutureWarning: The default value of regex will change from True to False in a future version.\n",
      "  meps[\"TwitterHandle\"] = meps[\"TwitterHandle\"].str.replace(dirt, \"\")\n",
      "/tmp/ipykernel_27414/3545670990.py:7: FutureWarning: The default value of regex will change from True to False in a future version. In addition, single character regular expressions will *not* be treated as literal strings when regex=True.\n",
      "  meps[\"TwitterHandle\"] = meps[\"TwitterHandle\"].str.replace(dirt, \"\")\n"
     ]
    }
   ],
   "source": [
    "# cleaning all the rubbish I found looking at the data\n",
    "\n",
    "dirty_strings = [\"https://\", \"http://\", \"www.\", \"twitter.com\", \"lang=en\", \"lang=it\", \"lang=de\", \n",
    "           \"lang=fr\", \"ref_src=twsrc%5Egoogle%7Ctwcamp%5Eserp%7Ctwgr%5Eauthor\", \"/status/456143806295855104\", \"?\", \"/\",\"@\"]\n",
    "\n",
    "for dirt in dirty_strings:\n",
    "    meps[\"TwitterHandle\"] = meps[\"TwitterHandle\"].str.replace(dirt, \"\")"
   ]
  },
  {
   "cell_type": "code",
   "execution_count": 63,
   "metadata": {},
   "outputs": [
    {
     "data": {
      "text/html": [
       "<div>\n",
       "<style scoped>\n",
       "    .dataframe tbody tr th:only-of-type {\n",
       "        vertical-align: middle;\n",
       "    }\n",
       "\n",
       "    .dataframe tbody tr th {\n",
       "        vertical-align: top;\n",
       "    }\n",
       "\n",
       "    .dataframe thead th {\n",
       "        text-align: right;\n",
       "    }\n",
       "</style>\n",
       "<table border=\"1\" class=\"dataframe\">\n",
       "  <thead>\n",
       "    <tr style=\"text-align: right;\">\n",
       "      <th></th>\n",
       "      <th>Name</th>\n",
       "      <th>Party</th>\n",
       "      <th>Country</th>\n",
       "      <th>Role</th>\n",
       "      <th>URL</th>\n",
       "      <th>TwitterHandle</th>\n",
       "    </tr>\n",
       "  </thead>\n",
       "  <tbody>\n",
       "    <tr>\n",
       "      <th>53</th>\n",
       "      <td>Tom BERENDSEN</td>\n",
       "      <td>PPE</td>\n",
       "      <td>Netherlands</td>\n",
       "      <td>Substitute</td>\n",
       "      <td>https://www.europarl.europa.eu/meps/en/197778</td>\n",
       "      <td>tbwberendsen</td>\n",
       "    </tr>\n",
       "    <tr>\n",
       "      <th>59</th>\n",
       "      <td>Nicola DANTI</td>\n",
       "      <td>Renew</td>\n",
       "      <td>Italy</td>\n",
       "      <td>Substitute</td>\n",
       "      <td>https://www.europarl.europa.eu/meps/en/124821</td>\n",
       "      <td>DantiNicola</td>\n",
       "    </tr>\n",
       "    <tr>\n",
       "      <th>25</th>\n",
       "      <td>Kateřina KONEČNÁ</td>\n",
       "      <td>The Left</td>\n",
       "      <td>Czechia</td>\n",
       "      <td>Member</td>\n",
       "      <td>https://www.europarl.europa.eu/meps/en/23699</td>\n",
       "      <td></td>\n",
       "    </tr>\n",
       "    <tr>\n",
       "      <th>29</th>\n",
       "      <td>Peter LUNDGREN</td>\n",
       "      <td>ECR</td>\n",
       "      <td>Sweden</td>\n",
       "      <td>Member</td>\n",
       "      <td>https://www.europarl.europa.eu/meps/en/124996</td>\n",
       "      <td></td>\n",
       "    </tr>\n",
       "    <tr>\n",
       "      <th>75</th>\n",
       "      <td>Colm MARKEY</td>\n",
       "      <td>PPE</td>\n",
       "      <td>Ireland</td>\n",
       "      <td>Substitute</td>\n",
       "      <td>https://www.europarl.europa.eu/meps/en/209896</td>\n",
       "      <td>colmmarkey</td>\n",
       "    </tr>\n",
       "  </tbody>\n",
       "</table>\n",
       "</div>"
      ],
      "text/plain": [
       "                Name     Party      Country        Role  \\\n",
       "53     Tom BERENDSEN       PPE  Netherlands  Substitute   \n",
       "59      Nicola DANTI     Renew        Italy  Substitute   \n",
       "25  Kateřina KONEČNÁ  The Left      Czechia      Member   \n",
       "29    Peter LUNDGREN       ECR       Sweden      Member   \n",
       "75       Colm MARKEY       PPE      Ireland  Substitute   \n",
       "\n",
       "                                              URL TwitterHandle  \n",
       "53  https://www.europarl.europa.eu/meps/en/197778  tbwberendsen  \n",
       "59  https://www.europarl.europa.eu/meps/en/124821   DantiNicola  \n",
       "25   https://www.europarl.europa.eu/meps/en/23699                \n",
       "29  https://www.europarl.europa.eu/meps/en/124996                \n",
       "75  https://www.europarl.europa.eu/meps/en/209896    colmmarkey  "
      ]
     },
     "execution_count": 63,
     "metadata": {},
     "output_type": "execute_result"
    }
   ],
   "source": [
    "meps.sample(5)"
   ]
  },
  {
   "cell_type": "markdown",
   "metadata": {},
   "source": [
    "Testing with known flawed handles"
   ]
  },
  {
   "cell_type": "code",
   "execution_count": 79,
   "metadata": {},
   "outputs": [
    {
     "data": {
      "text/plain": [
       "'tfajon'"
      ]
     },
     "execution_count": 79,
     "metadata": {},
     "output_type": "execute_result"
    }
   ],
   "source": [
    "meps.loc[191, \"TwitterHandle\"]"
   ]
  },
  {
   "cell_type": "code",
   "execution_count": 80,
   "metadata": {},
   "outputs": [
    {
     "data": {
      "text/plain": [
       "'paoloborchia'"
      ]
     },
     "execution_count": 80,
     "metadata": {},
     "output_type": "execute_result"
    }
   ],
   "source": [
    "meps.loc[84, \"TwitterHandle\"]"
   ]
  },
  {
   "cell_type": "code",
   "execution_count": 64,
   "metadata": {},
   "outputs": [],
   "source": [
    "meps.to_csv(\"mepstweet.csv\")"
   ]
  },
  {
   "cell_type": "code",
   "execution_count": null,
   "metadata": {},
   "outputs": [],
   "source": []
  }
 ],
 "metadata": {
  "kernelspec": {
   "display_name": "Python 3 (ipykernel)",
   "language": "python",
   "name": "python3"
  },
  "language_info": {
   "codemirror_mode": {
    "name": "ipython",
    "version": 3
   },
   "file_extension": ".py",
   "mimetype": "text/x-python",
   "name": "python",
   "nbconvert_exporter": "python",
   "pygments_lexer": "ipython3",
   "version": "3.8.12"
  }
 },
 "nbformat": 4,
 "nbformat_minor": 4
}
